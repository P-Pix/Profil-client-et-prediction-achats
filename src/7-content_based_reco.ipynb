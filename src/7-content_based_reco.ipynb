{
 "cells": [
  {
   "cell_type": "markdown",
   "id": "1c96ddb6",
   "metadata": {},
   "source": [
    "# Recommandation basée sur le contenu des produits\n",
    "\n",
    "Ce système recommande des produits similaires à ceux déjà achetés, en se basant sur leurs attributs (catégorie, nom, description).\n",
    "\n",
    "## Étapes :\n",
    "- Création de profils produits (TF-IDF sur descriptions)\n",
    "- Calcul de similarité entre produits\n",
    "- Construction du profil utilisateur par agrégation de ses achats\n",
    "- Recommandation personnalisée en fonction de ce profil\n",
    "\n",
    "Complémentaire du filtrage collaboratif : utile pour les nouveaux clients ou produits (cold start).\n"
   ]
  },
  {
   "cell_type": "markdown",
   "id": "9f2248c9",
   "metadata": {},
   "source": []
  }
 ],
 "metadata": {
  "language_info": {
   "name": "python"
  }
 },
 "nbformat": 4,
 "nbformat_minor": 5
}
