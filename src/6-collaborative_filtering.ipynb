{
 "cells": [
  {
   "cell_type": "markdown",
   "id": "80acdf76",
   "metadata": {},
   "source": [
    "# Recommandation par filtrage collaboratif\n",
    "\n",
    "Ce notebook implémente un moteur de recommandation basé sur le filtrage collaboratif, c’est-à-dire les habitudes d’achat des clients similaires.\n",
    "\n",
    "## Étapes :\n",
    "- Création d’une matrice utilisateur-produit\n",
    "- Utilisation de la librairie `Surprise` ou `LightFM`\n",
    "- Entraînement d’un modèle de recommandation\n",
    "- Évaluation : précision, rappel, MAP\n",
    "- Génération de recommandations pour un client donné\n",
    "\n",
    "Modèle basé sur les interactions passées, sans avoir besoin d’analyser les produits.\n"
   ]
  },
  {
   "cell_type": "markdown",
   "id": "ffb12df5",
   "metadata": {},
   "source": []
  }
 ],
 "metadata": {
  "language_info": {
   "name": "python"
  }
 },
 "nbformat": 4,
 "nbformat_minor": 5
}
