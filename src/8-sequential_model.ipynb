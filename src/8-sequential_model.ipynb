{
 "cells": [
  {
   "cell_type": "markdown",
   "id": "ea746756",
   "metadata": {},
   "source": [
    "# Modélisation séquentielle des achats\n",
    "\n",
    "Ici, nous explorons une approche temporelle ou séquentielle de la recommandation.  \n",
    "Objectif : prédire le prochain produit à acheter en tenant compte de l’ordre d’achat.\n",
    "\n",
    "## Étapes :\n",
    "- Construction de séquences d’achat par client\n",
    "- Tokenisation des produits\n",
    "- Modélisation avec Markov Chains ou LSTM\n",
    "- Prédiction du prochain achat probable\n",
    "\n",
    "Approche plus fine, utilisée dans des moteurs de recommandation type Netflix ou Amazon.\n"
   ]
  },
  {
   "cell_type": "markdown",
   "id": "746b699d",
   "metadata": {},
   "source": []
  }
 ],
 "metadata": {
  "language_info": {
   "name": "python"
  }
 },
 "nbformat": 4,
 "nbformat_minor": 5
}
